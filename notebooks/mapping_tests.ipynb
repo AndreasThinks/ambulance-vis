{
 "cells": [
  {
   "cell_type": "code",
   "execution_count": 13,
   "metadata": {
    "pycharm": {
     "name": "#%%\n"
    }
   },
   "outputs": [],
   "source": [
    "import pandas as pd\n",
    "from spatial_helper.display import generate_cust_map\n",
    "import folium\n",
    "import  geopandas\n"
   ]
  },
  {
   "cell_type": "markdown",
   "source": [
    "# Visualising Ambulance Demand and Deprivation\n",
    "Our goal was to visualise the spatial distribution of ambulances around England, and to examine how this correlated to deprivation.\n",
    "\n",
    "The core challenge was that our datasets do not cleanly overlay over standardised spatial units (eg, LSOA) - instead, we have to aggregate to average by Ambulance Trust, which makes the data far less useful."
   ],
   "metadata": {
    "collapsed": false,
    "pycharm": {
     "name": "#%% md\n"
    }
   }
  },
  {
   "cell_type": "markdown",
   "source": [
    "We begin by ingesting ambulance trust geolocations, as well as fuel poverty by LSOA, and join these together by mean using a spatial join."
   ],
   "metadata": {
    "collapsed": false,
    "pycharm": {
     "name": "#%% md\n"
    }
   }
  },
  {
   "cell_type": "code",
   "execution_count": 14,
   "metadata": {
    "pycharm": {
     "name": "#%%\n"
    }
   },
   "outputs": [
    {
     "data": {
      "text/plain": "   id_left  objectid_left    ccg21cd         ccg21nm  bng_e_left  bng_n_left  \\\n0      133             27  E38000089  NHS Kernow CCG      212497       64493   \n0      133             27  E38000089  NHS Kernow CCG      212497       64493   \n0      133             27  E38000089  NHS Kernow CCG      212497       64493   \n0      133             27  E38000089  NHS Kernow CCG      212497       64493   \n0      133             27  E38000089  NHS Kernow CCG      212497       64493   \n\n   long_left  lat_left  shape__are_left  shape__len_left  ... lat_right  \\\n0   -4.64254  50.45022     3.565119e+09     1.356815e+06  ...  49.92333   \n0   -4.64254  50.45022     3.565119e+09     1.356815e+06  ...  49.99874   \n0   -4.64254  50.45022     3.565119e+09     1.356815e+06  ...  50.01058   \n0   -4.64254  50.45022     3.565119e+09     1.356815e+06  ...  50.04354   \n0   -4.64254  50.45022     3.565119e+09     1.356815e+06  ...  50.06494   \n\n   shape__are_right  shape__len_right  fuel poverty data_lsoa name  \\\n0      1.638746e+07     103109.005881         Isles of Scilly 001A   \n0      2.930187e+07      31371.829019                Cornwall 073A   \n0      2.030131e+07      33109.696995                Cornwall 073D   \n0      4.176496e+07      37734.630853                Cornwall 073E   \n0      3.125426e+07      33144.181452                Cornwall 073C   \n\n  fuel poverty data_la code fuel poverty data_la name  \\\n0                 E06000053           Isles of Scilly   \n0                 E06000052                  Cornwall   \n0                 E06000052                  Cornwall   \n0                 E06000052                  Cornwall   \n0                 E06000052                  Cornwall   \n\n  fuel poverty data_region  fuel poverty data_number of households1  \\\n0               South West                                   1,107    \n0               South West                                     906    \n0               South West                                   1,048    \n0               South West                                     976    \n0               South West                                     498    \n\n   fuel poverty data_number of households in fuel poverty1  \\\n0                                              130.0         \n0                                              110.0         \n0                                              122.0         \n0                                              128.0         \n0                                               64.0         \n\n   fuel poverty data_proportion of households fuel poor (%)  \n0                                                12          \n0                                                12          \n0                                                12          \n0                                                13          \n0                                                13          \n\n[5 rows x 30 columns]",
      "text/html": "<div>\n<style scoped>\n    .dataframe tbody tr th:only-of-type {\n        vertical-align: middle;\n    }\n\n    .dataframe tbody tr th {\n        vertical-align: top;\n    }\n\n    .dataframe thead th {\n        text-align: right;\n    }\n</style>\n<table border=\"1\" class=\"dataframe\">\n  <thead>\n    <tr style=\"text-align: right;\">\n      <th></th>\n      <th>id_left</th>\n      <th>objectid_left</th>\n      <th>ccg21cd</th>\n      <th>ccg21nm</th>\n      <th>bng_e_left</th>\n      <th>bng_n_left</th>\n      <th>long_left</th>\n      <th>lat_left</th>\n      <th>shape__are_left</th>\n      <th>shape__len_left</th>\n      <th>...</th>\n      <th>lat_right</th>\n      <th>shape__are_right</th>\n      <th>shape__len_right</th>\n      <th>fuel poverty data_lsoa name</th>\n      <th>fuel poverty data_la code</th>\n      <th>fuel poverty data_la name</th>\n      <th>fuel poverty data_region</th>\n      <th>fuel poverty data_number of households1</th>\n      <th>fuel poverty data_number of households in fuel poverty1</th>\n      <th>fuel poverty data_proportion of households fuel poor (%)</th>\n    </tr>\n  </thead>\n  <tbody>\n    <tr>\n      <th>0</th>\n      <td>133</td>\n      <td>27</td>\n      <td>E38000089</td>\n      <td>NHS Kernow CCG</td>\n      <td>212497</td>\n      <td>64493</td>\n      <td>-4.64254</td>\n      <td>50.45022</td>\n      <td>3.565119e+09</td>\n      <td>1.356815e+06</td>\n      <td>...</td>\n      <td>49.92333</td>\n      <td>1.638746e+07</td>\n      <td>103109.005881</td>\n      <td>Isles of Scilly 001A</td>\n      <td>E06000053</td>\n      <td>Isles of Scilly</td>\n      <td>South West</td>\n      <td>1,107</td>\n      <td>130.0</td>\n      <td>12</td>\n    </tr>\n    <tr>\n      <th>0</th>\n      <td>133</td>\n      <td>27</td>\n      <td>E38000089</td>\n      <td>NHS Kernow CCG</td>\n      <td>212497</td>\n      <td>64493</td>\n      <td>-4.64254</td>\n      <td>50.45022</td>\n      <td>3.565119e+09</td>\n      <td>1.356815e+06</td>\n      <td>...</td>\n      <td>49.99874</td>\n      <td>2.930187e+07</td>\n      <td>31371.829019</td>\n      <td>Cornwall 073A</td>\n      <td>E06000052</td>\n      <td>Cornwall</td>\n      <td>South West</td>\n      <td>906</td>\n      <td>110.0</td>\n      <td>12</td>\n    </tr>\n    <tr>\n      <th>0</th>\n      <td>133</td>\n      <td>27</td>\n      <td>E38000089</td>\n      <td>NHS Kernow CCG</td>\n      <td>212497</td>\n      <td>64493</td>\n      <td>-4.64254</td>\n      <td>50.45022</td>\n      <td>3.565119e+09</td>\n      <td>1.356815e+06</td>\n      <td>...</td>\n      <td>50.01058</td>\n      <td>2.030131e+07</td>\n      <td>33109.696995</td>\n      <td>Cornwall 073D</td>\n      <td>E06000052</td>\n      <td>Cornwall</td>\n      <td>South West</td>\n      <td>1,048</td>\n      <td>122.0</td>\n      <td>12</td>\n    </tr>\n    <tr>\n      <th>0</th>\n      <td>133</td>\n      <td>27</td>\n      <td>E38000089</td>\n      <td>NHS Kernow CCG</td>\n      <td>212497</td>\n      <td>64493</td>\n      <td>-4.64254</td>\n      <td>50.45022</td>\n      <td>3.565119e+09</td>\n      <td>1.356815e+06</td>\n      <td>...</td>\n      <td>50.04354</td>\n      <td>4.176496e+07</td>\n      <td>37734.630853</td>\n      <td>Cornwall 073E</td>\n      <td>E06000052</td>\n      <td>Cornwall</td>\n      <td>South West</td>\n      <td>976</td>\n      <td>128.0</td>\n      <td>13</td>\n    </tr>\n    <tr>\n      <th>0</th>\n      <td>133</td>\n      <td>27</td>\n      <td>E38000089</td>\n      <td>NHS Kernow CCG</td>\n      <td>212497</td>\n      <td>64493</td>\n      <td>-4.64254</td>\n      <td>50.45022</td>\n      <td>3.565119e+09</td>\n      <td>1.356815e+06</td>\n      <td>...</td>\n      <td>50.06494</td>\n      <td>3.125426e+07</td>\n      <td>33144.181452</td>\n      <td>Cornwall 073C</td>\n      <td>E06000052</td>\n      <td>Cornwall</td>\n      <td>South West</td>\n      <td>498</td>\n      <td>64.0</td>\n      <td>13</td>\n    </tr>\n  </tbody>\n</table>\n<p>5 rows × 30 columns</p>\n</div>"
     },
     "execution_count": 14,
     "metadata": {},
     "output_type": "execute_result"
    }
   ],
   "source": [
    "\n",
    "ambulance_trust = geopandas.read_file(\"../data/external/approx_ambulance_trust_shapes/approx_ambulance_trusts.shp\")\n",
    "\n",
    "fuel_pov_layer = geopandas.read_file(\"../data/external/layers.gpkg\")\n",
    "trusts_to_fuel = geopandas.sjoin(ambulance_trust, fuel_pov_layer, how=\"left\").dropna(axis=0)\n",
    "trusts_to_fuel.head()"
   ]
  },
  {
   "cell_type": "code",
   "execution_count": 15,
   "metadata": {
    "pycharm": {
     "name": "#%%\n"
    }
   },
   "outputs": [
    {
     "data": {
      "text/plain": "                          ccg21nm  poverty_prop\n0                NHS Barnsley CCG     16.696206\n1  NHS Basildon and Brentwood CCG     12.735452\n2   NHS Blackburn with Darwen CCG     14.498308\n3           NHS Cannock Chase CCG     17.396253\n4                  NHS Kernow CCG     10.552136",
      "text/html": "<div>\n<style scoped>\n    .dataframe tbody tr th:only-of-type {\n        vertical-align: middle;\n    }\n\n    .dataframe tbody tr th {\n        vertical-align: top;\n    }\n\n    .dataframe thead th {\n        text-align: right;\n    }\n</style>\n<table border=\"1\" class=\"dataframe\">\n  <thead>\n    <tr style=\"text-align: right;\">\n      <th></th>\n      <th>ccg21nm</th>\n      <th>poverty_prop</th>\n    </tr>\n  </thead>\n  <tbody>\n    <tr>\n      <th>0</th>\n      <td>NHS Barnsley CCG</td>\n      <td>16.696206</td>\n    </tr>\n    <tr>\n      <th>1</th>\n      <td>NHS Basildon and Brentwood CCG</td>\n      <td>12.735452</td>\n    </tr>\n    <tr>\n      <th>2</th>\n      <td>NHS Blackburn with Darwen CCG</td>\n      <td>14.498308</td>\n    </tr>\n    <tr>\n      <th>3</th>\n      <td>NHS Cannock Chase CCG</td>\n      <td>17.396253</td>\n    </tr>\n    <tr>\n      <th>4</th>\n      <td>NHS Kernow CCG</td>\n      <td>10.552136</td>\n    </tr>\n  </tbody>\n</table>\n</div>"
     },
     "execution_count": 15,
     "metadata": {},
     "output_type": "execute_result"
    }
   ],
   "source": [
    "trusts_fuel = trusts_to_fuel[[\"ccg21nm\",\"fuel poverty data_proportion of households fuel poor (%)\"]].rename(columns={\"fuel poverty data_proportion of households fuel poor (%)\":\"fuel_poverty\"}).copy()\n",
    "trusts_fuel[\"poverty_prop\"] = pd.to_numeric(trusts_fuel[\"fuel_poverty\"])\n",
    "pov_per_trust = trusts_fuel[[\"ccg21nm\",\"poverty_prop\"]].groupby([\"ccg21nm\"]).mean().reset_index()\n",
    "pov_per_trust.head()"
   ]
  },
  {
   "cell_type": "markdown",
   "source": [
    "We then repeat the process, but this time using health deprivation (using the IMD index)."
   ],
   "metadata": {
    "collapsed": false,
    "pycharm": {
     "name": "#%% md\n"
    }
   }
  },
  {
   "cell_type": "code",
   "execution_count": 16,
   "metadata": {
    "pycharm": {
     "name": "#%%\n"
    }
   },
   "outputs": [
    {
     "data": {
      "text/plain": "    lsoa11cd                   lsoa11nm                  lsoa11nmw  \\\n0  E01000001        City of London 001A        City of London 001A   \n1  E01000002        City of London 001B        City of London 001B   \n2  E01000003        City of London 001C        City of London 001C   \n3  E01000005        City of London 001E        City of London 001E   \n4  E01000006  Barking and Dagenham 016A  Barking and Dagenham 016A   \n\n      st_areasha   st_lengths  imd_rank  imd_decile  \\\n0  133320.768872  2291.846072     29199           9   \n1  226191.272990  2433.960112     30379          10   \n2   57302.966538  1142.359799     14915           5   \n3  190738.760504  2167.868343      8678           3   \n4  144195.846857  1935.510354     14486           5   \n\n                    lsoa01nm      ladcd                 ladnm  ...  inddec  \\\n0        City of London 001A  E09000001        City of London  ...       5   \n1        City of London 001B  E09000001        City of London  ...       7   \n2        City of London 001C  E09000001        City of London  ...       6   \n3        City of London 001E  E09000001        City of London  ...       8   \n4  Barking and Dagenham 016A  E09000002  Barking and Dagenham  ...       5   \n\n   outscore  outrank  outdec  totpop  depchi  pop16_59  pop60+  workpop  \\\n0     1.503     1615       1    1296     175       656     465   715.00   \n1     1.196     2969       1    1156     182       580     394   619.75   \n2     2.207      162       1    1350     146       759     445   804.00   \n3     1.769      849       1    1121     229       692     200   683.00   \n4     0.969     4368       2    2040     522      1297     221  1284.50   \n\n                                            geometry  \n0  MULTIPOLYGON (((532105.092 182011.230, 532162....  \n1  MULTIPOLYGON (((532746.813 181786.891, 532671....  \n2  MULTIPOLYGON (((532135.145 182198.119, 532158....  \n3  MULTIPOLYGON (((533807.946 180767.770, 533649....  \n4  MULTIPOLYGON (((545122.049 184314.931, 545271....  \n\n[5 rows x 64 columns]",
      "text/html": "<div>\n<style scoped>\n    .dataframe tbody tr th:only-of-type {\n        vertical-align: middle;\n    }\n\n    .dataframe tbody tr th {\n        vertical-align: top;\n    }\n\n    .dataframe thead th {\n        text-align: right;\n    }\n</style>\n<table border=\"1\" class=\"dataframe\">\n  <thead>\n    <tr style=\"text-align: right;\">\n      <th></th>\n      <th>lsoa11cd</th>\n      <th>lsoa11nm</th>\n      <th>lsoa11nmw</th>\n      <th>st_areasha</th>\n      <th>st_lengths</th>\n      <th>imd_rank</th>\n      <th>imd_decile</th>\n      <th>lsoa01nm</th>\n      <th>ladcd</th>\n      <th>ladnm</th>\n      <th>...</th>\n      <th>inddec</th>\n      <th>outscore</th>\n      <th>outrank</th>\n      <th>outdec</th>\n      <th>totpop</th>\n      <th>depchi</th>\n      <th>pop16_59</th>\n      <th>pop60+</th>\n      <th>workpop</th>\n      <th>geometry</th>\n    </tr>\n  </thead>\n  <tbody>\n    <tr>\n      <th>0</th>\n      <td>E01000001</td>\n      <td>City of London 001A</td>\n      <td>City of London 001A</td>\n      <td>133320.768872</td>\n      <td>2291.846072</td>\n      <td>29199</td>\n      <td>9</td>\n      <td>City of London 001A</td>\n      <td>E09000001</td>\n      <td>City of London</td>\n      <td>...</td>\n      <td>5</td>\n      <td>1.503</td>\n      <td>1615</td>\n      <td>1</td>\n      <td>1296</td>\n      <td>175</td>\n      <td>656</td>\n      <td>465</td>\n      <td>715.00</td>\n      <td>MULTIPOLYGON (((532105.092 182011.230, 532162....</td>\n    </tr>\n    <tr>\n      <th>1</th>\n      <td>E01000002</td>\n      <td>City of London 001B</td>\n      <td>City of London 001B</td>\n      <td>226191.272990</td>\n      <td>2433.960112</td>\n      <td>30379</td>\n      <td>10</td>\n      <td>City of London 001B</td>\n      <td>E09000001</td>\n      <td>City of London</td>\n      <td>...</td>\n      <td>7</td>\n      <td>1.196</td>\n      <td>2969</td>\n      <td>1</td>\n      <td>1156</td>\n      <td>182</td>\n      <td>580</td>\n      <td>394</td>\n      <td>619.75</td>\n      <td>MULTIPOLYGON (((532746.813 181786.891, 532671....</td>\n    </tr>\n    <tr>\n      <th>2</th>\n      <td>E01000003</td>\n      <td>City of London 001C</td>\n      <td>City of London 001C</td>\n      <td>57302.966538</td>\n      <td>1142.359799</td>\n      <td>14915</td>\n      <td>5</td>\n      <td>City of London 001C</td>\n      <td>E09000001</td>\n      <td>City of London</td>\n      <td>...</td>\n      <td>6</td>\n      <td>2.207</td>\n      <td>162</td>\n      <td>1</td>\n      <td>1350</td>\n      <td>146</td>\n      <td>759</td>\n      <td>445</td>\n      <td>804.00</td>\n      <td>MULTIPOLYGON (((532135.145 182198.119, 532158....</td>\n    </tr>\n    <tr>\n      <th>3</th>\n      <td>E01000005</td>\n      <td>City of London 001E</td>\n      <td>City of London 001E</td>\n      <td>190738.760504</td>\n      <td>2167.868343</td>\n      <td>8678</td>\n      <td>3</td>\n      <td>City of London 001E</td>\n      <td>E09000001</td>\n      <td>City of London</td>\n      <td>...</td>\n      <td>8</td>\n      <td>1.769</td>\n      <td>849</td>\n      <td>1</td>\n      <td>1121</td>\n      <td>229</td>\n      <td>692</td>\n      <td>200</td>\n      <td>683.00</td>\n      <td>MULTIPOLYGON (((533807.946 180767.770, 533649....</td>\n    </tr>\n    <tr>\n      <th>4</th>\n      <td>E01000006</td>\n      <td>Barking and Dagenham 016A</td>\n      <td>Barking and Dagenham 016A</td>\n      <td>144195.846857</td>\n      <td>1935.510354</td>\n      <td>14486</td>\n      <td>5</td>\n      <td>Barking and Dagenham 016A</td>\n      <td>E09000002</td>\n      <td>Barking and Dagenham</td>\n      <td>...</td>\n      <td>5</td>\n      <td>0.969</td>\n      <td>4368</td>\n      <td>2</td>\n      <td>2040</td>\n      <td>522</td>\n      <td>1297</td>\n      <td>221</td>\n      <td>1284.50</td>\n      <td>MULTIPOLYGON (((545122.049 184314.931, 545271....</td>\n    </tr>\n  </tbody>\n</table>\n<p>5 rows × 64 columns</p>\n</div>"
     },
     "execution_count": 16,
     "metadata": {},
     "output_type": "execute_result"
    }
   ],
   "source": [
    "health_deprivation = geopandas.read_file(\"../data/external/hdd.gpkg\")\n",
    "health_deprivation.head()"
   ]
  },
  {
   "cell_type": "code",
   "execution_count": 17,
   "metadata": {
    "pycharm": {
     "name": "#%%\n"
    }
   },
   "outputs": [
    {
     "name": "stderr",
     "output_type": "stream",
     "text": [
      "/tmp/ipykernel_32946/1512038373.py:5: SettingWithCopyWarning: \n",
      "A value is trying to be set on a copy of a slice from a DataFrame.\n",
      "Try using .loc[row_indexer,col_indexer] = value instead\n",
      "\n",
      "See the caveats in the documentation: https://pandas.pydata.org/pandas-docs/stable/user_guide/indexing.html#returning-a-view-versus-a-copy\n",
      "  trust_health[\"hddscore\"] = pd.to_numeric(trust_health[\"hddscore\"])\n"
     ]
    },
    {
     "data": {
      "text/plain": "                          ccg21nm  hddscore\n0                NHS Barnsley CCG  0.314100\n1  NHS Basildon and Brentwood CCG -0.342181\n2   NHS Blackburn with Darwen CCG  0.621805\n3           NHS Cannock Chase CCG  0.196028\n4                  NHS Kernow CCG -0.166827",
      "text/html": "<div>\n<style scoped>\n    .dataframe tbody tr th:only-of-type {\n        vertical-align: middle;\n    }\n\n    .dataframe tbody tr th {\n        vertical-align: top;\n    }\n\n    .dataframe thead th {\n        text-align: right;\n    }\n</style>\n<table border=\"1\" class=\"dataframe\">\n  <thead>\n    <tr style=\"text-align: right;\">\n      <th></th>\n      <th>ccg21nm</th>\n      <th>hddscore</th>\n    </tr>\n  </thead>\n  <tbody>\n    <tr>\n      <th>0</th>\n      <td>NHS Barnsley CCG</td>\n      <td>0.314100</td>\n    </tr>\n    <tr>\n      <th>1</th>\n      <td>NHS Basildon and Brentwood CCG</td>\n      <td>-0.342181</td>\n    </tr>\n    <tr>\n      <th>2</th>\n      <td>NHS Blackburn with Darwen CCG</td>\n      <td>0.621805</td>\n    </tr>\n    <tr>\n      <th>3</th>\n      <td>NHS Cannock Chase CCG</td>\n      <td>0.196028</td>\n    </tr>\n    <tr>\n      <th>4</th>\n      <td>NHS Kernow CCG</td>\n      <td>-0.166827</td>\n    </tr>\n  </tbody>\n</table>\n</div>"
     },
     "execution_count": 17,
     "metadata": {},
     "output_type": "execute_result"
    }
   ],
   "source": [
    "trust_to_health_dep = geopandas.sjoin(ambulance_trust, health_deprivation, how=\"left\").dropna(axis=0)\n",
    "\n",
    "\n",
    "trust_health = trust_to_health_dep[[\"ccg21nm\",\"hddscore\"]]\n",
    "trust_health[\"hddscore\"] = pd.to_numeric(trust_health[\"hddscore\"])\n",
    "\n",
    "hdd_per_trust = trust_health[[\"ccg21nm\",\"hddscore\"]].groupby([\"ccg21nm\"]).mean().reset_index()\n",
    "hdd_per_trust.head()"
   ]
  },
  {
   "cell_type": "markdown",
   "source": [
    "We then combined our two datasets together, and do some basic cleaning of trust names."
   ],
   "metadata": {
    "collapsed": false,
    "pycharm": {
     "name": "#%% md\n"
    }
   }
  },
  {
   "cell_type": "code",
   "execution_count": 18,
   "metadata": {
    "pycharm": {
     "name": "#%%\n"
    }
   },
   "outputs": [
    {
     "data": {
      "text/plain": "    id  objectid    ccg21cd                                 ccg21nm   bng_e  \\\n0  133        27  E38000089                          NHS Kernow CCG  212497   \n1  134        93  E38000244               NHS South East London CCG  541305   \n2  135        95  E38000246               NHS Surrey Heartlands CCG  516837   \n3  136        40  E38000137                      NHS Portsmouth CCG  465619   \n4  137         2  E38000007          NHS Basildon and Brentwood CCG  564014   \n5  138        67  E38000212             NHS Newcastle Gateshead CCG  420165   \n6  139         4  E38000014           NHS Blackburn with Darwen CCG  369490   \n7  140        11  E38000028                   NHS Cannock Chase CCG  401391   \n8  141        92  E38000243  NHS Nottingham and Nottinghamshire CCG  466571   \n9  142         1  E38000006                        NHS Barnsley CCG  429979   \n\n    bng_n      long       lat    shape__are    shape__len  \\\n0   64493 -4.642540  50.45022  3.565119e+09  1.356815e+06   \n1  168583  0.029892  51.39868  3.488605e+08  1.248200e+05   \n2  150388 -0.327610  51.24071  1.595693e+09  3.010981e+05   \n3  101352 -1.070060  50.80800  4.038664e+07  6.181838e+04   \n4  194421  0.368068  51.62470  2.631183e+08  1.337737e+05   \n5  559658 -1.686850  54.93120  2.557887e+08  1.547149e+05   \n6  422806 -2.463600  53.70080  1.370126e+08  6.524908e+04   \n7  311481 -1.980840  52.70101  1.337217e+08  8.324228e+04   \n8  348422 -1.008830  53.02897  1.521517e+09  2.497150e+05   \n9  403330 -1.549250  53.52580  3.290521e+08  1.255186e+05   \n\n                                            geometry  poverty_prop  hddscore  \n0  MULTIPOLYGON (((83998.680 5390.750, 83996.750 ...     10.552136 -0.166827  \n1  MULTIPOLYGON (((552838.400 175550.000, 552843....     15.106058 -0.397073  \n2  MULTIPOLYGON (((503578.594 175452.610, 503574....      7.595187 -0.449243  \n3  MULTIPOLYGON (((465548.313 94917.149, 465547.5...      7.440331 -0.593025  \n4  MULTIPOLYGON (((576397.460 184824.420, 576403....     12.735452 -0.342181  \n5  MULTIPOLYGON (((415220.399 565094.003, 415242....     14.724405  0.680426  \n6  MULTIPOLYGON (((347049.380 414681.250, 347043....     14.498308  0.621805  \n7  POLYGON ((374544.500 344634.312, 374554.068 34...     17.396253  0.196028  \n8  MULTIPOLYGON (((447154.876 288685.246, 447137....     13.808985  0.064179  \n9  MULTIPOLYGON (((413265.887 398534.505, 413261....     16.696206  0.314100  ",
      "text/html": "<div>\n<style scoped>\n    .dataframe tbody tr th:only-of-type {\n        vertical-align: middle;\n    }\n\n    .dataframe tbody tr th {\n        vertical-align: top;\n    }\n\n    .dataframe thead th {\n        text-align: right;\n    }\n</style>\n<table border=\"1\" class=\"dataframe\">\n  <thead>\n    <tr style=\"text-align: right;\">\n      <th></th>\n      <th>id</th>\n      <th>objectid</th>\n      <th>ccg21cd</th>\n      <th>ccg21nm</th>\n      <th>bng_e</th>\n      <th>bng_n</th>\n      <th>long</th>\n      <th>lat</th>\n      <th>shape__are</th>\n      <th>shape__len</th>\n      <th>geometry</th>\n      <th>poverty_prop</th>\n      <th>hddscore</th>\n    </tr>\n  </thead>\n  <tbody>\n    <tr>\n      <th>0</th>\n      <td>133</td>\n      <td>27</td>\n      <td>E38000089</td>\n      <td>NHS Kernow CCG</td>\n      <td>212497</td>\n      <td>64493</td>\n      <td>-4.642540</td>\n      <td>50.45022</td>\n      <td>3.565119e+09</td>\n      <td>1.356815e+06</td>\n      <td>MULTIPOLYGON (((83998.680 5390.750, 83996.750 ...</td>\n      <td>10.552136</td>\n      <td>-0.166827</td>\n    </tr>\n    <tr>\n      <th>1</th>\n      <td>134</td>\n      <td>93</td>\n      <td>E38000244</td>\n      <td>NHS South East London CCG</td>\n      <td>541305</td>\n      <td>168583</td>\n      <td>0.029892</td>\n      <td>51.39868</td>\n      <td>3.488605e+08</td>\n      <td>1.248200e+05</td>\n      <td>MULTIPOLYGON (((552838.400 175550.000, 552843....</td>\n      <td>15.106058</td>\n      <td>-0.397073</td>\n    </tr>\n    <tr>\n      <th>2</th>\n      <td>135</td>\n      <td>95</td>\n      <td>E38000246</td>\n      <td>NHS Surrey Heartlands CCG</td>\n      <td>516837</td>\n      <td>150388</td>\n      <td>-0.327610</td>\n      <td>51.24071</td>\n      <td>1.595693e+09</td>\n      <td>3.010981e+05</td>\n      <td>MULTIPOLYGON (((503578.594 175452.610, 503574....</td>\n      <td>7.595187</td>\n      <td>-0.449243</td>\n    </tr>\n    <tr>\n      <th>3</th>\n      <td>136</td>\n      <td>40</td>\n      <td>E38000137</td>\n      <td>NHS Portsmouth CCG</td>\n      <td>465619</td>\n      <td>101352</td>\n      <td>-1.070060</td>\n      <td>50.80800</td>\n      <td>4.038664e+07</td>\n      <td>6.181838e+04</td>\n      <td>MULTIPOLYGON (((465548.313 94917.149, 465547.5...</td>\n      <td>7.440331</td>\n      <td>-0.593025</td>\n    </tr>\n    <tr>\n      <th>4</th>\n      <td>137</td>\n      <td>2</td>\n      <td>E38000007</td>\n      <td>NHS Basildon and Brentwood CCG</td>\n      <td>564014</td>\n      <td>194421</td>\n      <td>0.368068</td>\n      <td>51.62470</td>\n      <td>2.631183e+08</td>\n      <td>1.337737e+05</td>\n      <td>MULTIPOLYGON (((576397.460 184824.420, 576403....</td>\n      <td>12.735452</td>\n      <td>-0.342181</td>\n    </tr>\n    <tr>\n      <th>5</th>\n      <td>138</td>\n      <td>67</td>\n      <td>E38000212</td>\n      <td>NHS Newcastle Gateshead CCG</td>\n      <td>420165</td>\n      <td>559658</td>\n      <td>-1.686850</td>\n      <td>54.93120</td>\n      <td>2.557887e+08</td>\n      <td>1.547149e+05</td>\n      <td>MULTIPOLYGON (((415220.399 565094.003, 415242....</td>\n      <td>14.724405</td>\n      <td>0.680426</td>\n    </tr>\n    <tr>\n      <th>6</th>\n      <td>139</td>\n      <td>4</td>\n      <td>E38000014</td>\n      <td>NHS Blackburn with Darwen CCG</td>\n      <td>369490</td>\n      <td>422806</td>\n      <td>-2.463600</td>\n      <td>53.70080</td>\n      <td>1.370126e+08</td>\n      <td>6.524908e+04</td>\n      <td>MULTIPOLYGON (((347049.380 414681.250, 347043....</td>\n      <td>14.498308</td>\n      <td>0.621805</td>\n    </tr>\n    <tr>\n      <th>7</th>\n      <td>140</td>\n      <td>11</td>\n      <td>E38000028</td>\n      <td>NHS Cannock Chase CCG</td>\n      <td>401391</td>\n      <td>311481</td>\n      <td>-1.980840</td>\n      <td>52.70101</td>\n      <td>1.337217e+08</td>\n      <td>8.324228e+04</td>\n      <td>POLYGON ((374544.500 344634.312, 374554.068 34...</td>\n      <td>17.396253</td>\n      <td>0.196028</td>\n    </tr>\n    <tr>\n      <th>8</th>\n      <td>141</td>\n      <td>92</td>\n      <td>E38000243</td>\n      <td>NHS Nottingham and Nottinghamshire CCG</td>\n      <td>466571</td>\n      <td>348422</td>\n      <td>-1.008830</td>\n      <td>53.02897</td>\n      <td>1.521517e+09</td>\n      <td>2.497150e+05</td>\n      <td>MULTIPOLYGON (((447154.876 288685.246, 447137....</td>\n      <td>13.808985</td>\n      <td>0.064179</td>\n    </tr>\n    <tr>\n      <th>9</th>\n      <td>142</td>\n      <td>1</td>\n      <td>E38000006</td>\n      <td>NHS Barnsley CCG</td>\n      <td>429979</td>\n      <td>403330</td>\n      <td>-1.549250</td>\n      <td>53.52580</td>\n      <td>3.290521e+08</td>\n      <td>1.255186e+05</td>\n      <td>MULTIPOLYGON (((413265.887 398534.505, 413261....</td>\n      <td>16.696206</td>\n      <td>0.314100</td>\n    </tr>\n  </tbody>\n</table>\n</div>"
     },
     "execution_count": 18,
     "metadata": {},
     "output_type": "execute_result"
    }
   ],
   "source": [
    "trust_with_all_metrics = ambulance_trust.merge(pov_per_trust, how=\"left\", on=\"ccg21nm\").merge(hdd_per_trust, how=\"left\", on=\"ccg21nm\")\n",
    "trust_with_all_metrics"
   ]
  },
  {
   "cell_type": "markdown",
   "source": [
    "We then conduct some manual data cleaning to bring together trust names, as well as manually import the Cat2 mean call time, which we use as a metric of ambulance performance."
   ],
   "metadata": {
    "collapsed": false,
    "pycharm": {
     "name": "#%% md\n"
    }
   }
  },
  {
   "cell_type": "code",
   "execution_count": 18,
   "outputs": [],
   "source": [],
   "metadata": {
    "collapsed": false,
    "pycharm": {
     "name": "#%%\n"
    }
   }
  },
  {
   "cell_type": "code",
   "execution_count": 19,
   "metadata": {
    "pycharm": {
     "name": "#%%\n"
    }
   },
   "outputs": [
    {
     "data": {
      "text/plain": "     ccg21cd                                 ccg21nm      CorrectTrust   Time\n0  E38000089                          NHS Kernow CCG     South Western   9:50\n1  E38000244               NHS South East London CCG            London  55:44\n2  E38000246               NHS Surrey Heartlands CCG  South East Coast  35:31\n3  E38000137                      NHS Portsmouth CCG     South Central  43:28\n4  E38000007          NHS Basildon and Brentwood CCG     East Midlands  11:51\n5  E38000212             NHS Newcastle Gateshead CCG        North East  44:00\n6  E38000014           NHS Blackburn with Darwen CCG        North West  39:46\n7  E38000028                   NHS Cannock Chase CCG     West Midlands  52:11\n8  E38000243  NHS Nottingham and Nottinghamshire CCG   East of England  56:48\n9  E38000006                        NHS Barnsley CCG         Yorkshire  43:18",
      "text/html": "<div>\n<style scoped>\n    .dataframe tbody tr th:only-of-type {\n        vertical-align: middle;\n    }\n\n    .dataframe tbody tr th {\n        vertical-align: top;\n    }\n\n    .dataframe thead th {\n        text-align: right;\n    }\n</style>\n<table border=\"1\" class=\"dataframe\">\n  <thead>\n    <tr style=\"text-align: right;\">\n      <th></th>\n      <th>ccg21cd</th>\n      <th>ccg21nm</th>\n      <th>CorrectTrust</th>\n      <th>Time</th>\n    </tr>\n  </thead>\n  <tbody>\n    <tr>\n      <th>0</th>\n      <td>E38000089</td>\n      <td>NHS Kernow CCG</td>\n      <td>South Western</td>\n      <td>9:50</td>\n    </tr>\n    <tr>\n      <th>1</th>\n      <td>E38000244</td>\n      <td>NHS South East London CCG</td>\n      <td>London</td>\n      <td>55:44</td>\n    </tr>\n    <tr>\n      <th>2</th>\n      <td>E38000246</td>\n      <td>NHS Surrey Heartlands CCG</td>\n      <td>South East Coast</td>\n      <td>35:31</td>\n    </tr>\n    <tr>\n      <th>3</th>\n      <td>E38000137</td>\n      <td>NHS Portsmouth CCG</td>\n      <td>South Central</td>\n      <td>43:28</td>\n    </tr>\n    <tr>\n      <th>4</th>\n      <td>E38000007</td>\n      <td>NHS Basildon and Brentwood CCG</td>\n      <td>East Midlands</td>\n      <td>11:51</td>\n    </tr>\n    <tr>\n      <th>5</th>\n      <td>E38000212</td>\n      <td>NHS Newcastle Gateshead CCG</td>\n      <td>North East</td>\n      <td>44:00</td>\n    </tr>\n    <tr>\n      <th>6</th>\n      <td>E38000014</td>\n      <td>NHS Blackburn with Darwen CCG</td>\n      <td>North West</td>\n      <td>39:46</td>\n    </tr>\n    <tr>\n      <th>7</th>\n      <td>E38000028</td>\n      <td>NHS Cannock Chase CCG</td>\n      <td>West Midlands</td>\n      <td>52:11</td>\n    </tr>\n    <tr>\n      <th>8</th>\n      <td>E38000243</td>\n      <td>NHS Nottingham and Nottinghamshire CCG</td>\n      <td>East of England</td>\n      <td>56:48</td>\n    </tr>\n    <tr>\n      <th>9</th>\n      <td>E38000006</td>\n      <td>NHS Barnsley CCG</td>\n      <td>Yorkshire</td>\n      <td>43:18</td>\n    </tr>\n  </tbody>\n</table>\n</div>"
     },
     "execution_count": 19,
     "metadata": {},
     "output_type": "execute_result"
    }
   ],
   "source": [
    "corrected_per = pd.read_csv(\"../data/interim/manual_corrections.csv\").iloc[:,1:].copy()\n",
    "corrected_per"
   ]
  },
  {
   "cell_type": "code",
   "execution_count": 20,
   "metadata": {
    "pycharm": {
     "name": "#%%\n"
    }
   },
   "outputs": [
    {
     "data": {
      "text/plain": "    id  objectid    ccg21cd                               ccg21nm_x   bng_e  \\\n0  133        27  E38000089                          NHS Kernow CCG  212497   \n1  134        93  E38000244               NHS South East London CCG  541305   \n2  135        95  E38000246               NHS Surrey Heartlands CCG  516837   \n3  136        40  E38000137                      NHS Portsmouth CCG  465619   \n4  137         2  E38000007          NHS Basildon and Brentwood CCG  564014   \n5  138        67  E38000212             NHS Newcastle Gateshead CCG  420165   \n6  139         4  E38000014           NHS Blackburn with Darwen CCG  369490   \n7  140        11  E38000028                   NHS Cannock Chase CCG  401391   \n8  141        92  E38000243  NHS Nottingham and Nottinghamshire CCG  466571   \n9  142         1  E38000006                        NHS Barnsley CCG  429979   \n\n    bng_n      long       lat    shape__are    shape__len  \\\n0   64493 -4.642540  50.45022  3.565119e+09  1.356815e+06   \n1  168583  0.029892  51.39868  3.488605e+08  1.248200e+05   \n2  150388 -0.327610  51.24071  1.595693e+09  3.010981e+05   \n3  101352 -1.070060  50.80800  4.038664e+07  6.181838e+04   \n4  194421  0.368068  51.62470  2.631183e+08  1.337737e+05   \n5  559658 -1.686850  54.93120  2.557887e+08  1.547149e+05   \n6  422806 -2.463600  53.70080  1.370126e+08  6.524908e+04   \n7  311481 -1.980840  52.70101  1.337217e+08  8.324228e+04   \n8  348422 -1.008830  53.02897  1.521517e+09  2.497150e+05   \n9  403330 -1.549250  53.52580  3.290521e+08  1.255186e+05   \n\n                                            geometry  poverty_prop  hddscore  \\\n0  MULTIPOLYGON (((83998.680 5390.750, 83996.750 ...     10.552136 -0.166827   \n1  MULTIPOLYGON (((552838.400 175550.000, 552843....     15.106058 -0.397073   \n2  MULTIPOLYGON (((503578.594 175452.610, 503574....      7.595187 -0.449243   \n3  MULTIPOLYGON (((465548.313 94917.149, 465547.5...      7.440331 -0.593025   \n4  MULTIPOLYGON (((576397.460 184824.420, 576403....     12.735452 -0.342181   \n5  MULTIPOLYGON (((415220.399 565094.003, 415242....     14.724405  0.680426   \n6  MULTIPOLYGON (((347049.380 414681.250, 347043....     14.498308  0.621805   \n7  POLYGON ((374544.500 344634.312, 374554.068 34...     17.396253  0.196028   \n8  MULTIPOLYGON (((447154.876 288685.246, 447137....     13.808985  0.064179   \n9  MULTIPOLYGON (((413265.887 398534.505, 413261....     16.696206  0.314100   \n\n                                ccg21nm_y      CorrectTrust   Time  \n0                          NHS Kernow CCG     South Western   9:50  \n1               NHS South East London CCG            London  55:44  \n2               NHS Surrey Heartlands CCG  South East Coast  35:31  \n3                      NHS Portsmouth CCG     South Central  43:28  \n4          NHS Basildon and Brentwood CCG     East Midlands  11:51  \n5             NHS Newcastle Gateshead CCG        North East  44:00  \n6           NHS Blackburn with Darwen CCG        North West  39:46  \n7                   NHS Cannock Chase CCG     West Midlands  52:11  \n8  NHS Nottingham and Nottinghamshire CCG   East of England  56:48  \n9                        NHS Barnsley CCG         Yorkshire  43:18  ",
      "text/html": "<div>\n<style scoped>\n    .dataframe tbody tr th:only-of-type {\n        vertical-align: middle;\n    }\n\n    .dataframe tbody tr th {\n        vertical-align: top;\n    }\n\n    .dataframe thead th {\n        text-align: right;\n    }\n</style>\n<table border=\"1\" class=\"dataframe\">\n  <thead>\n    <tr style=\"text-align: right;\">\n      <th></th>\n      <th>id</th>\n      <th>objectid</th>\n      <th>ccg21cd</th>\n      <th>ccg21nm_x</th>\n      <th>bng_e</th>\n      <th>bng_n</th>\n      <th>long</th>\n      <th>lat</th>\n      <th>shape__are</th>\n      <th>shape__len</th>\n      <th>geometry</th>\n      <th>poverty_prop</th>\n      <th>hddscore</th>\n      <th>ccg21nm_y</th>\n      <th>CorrectTrust</th>\n      <th>Time</th>\n    </tr>\n  </thead>\n  <tbody>\n    <tr>\n      <th>0</th>\n      <td>133</td>\n      <td>27</td>\n      <td>E38000089</td>\n      <td>NHS Kernow CCG</td>\n      <td>212497</td>\n      <td>64493</td>\n      <td>-4.642540</td>\n      <td>50.45022</td>\n      <td>3.565119e+09</td>\n      <td>1.356815e+06</td>\n      <td>MULTIPOLYGON (((83998.680 5390.750, 83996.750 ...</td>\n      <td>10.552136</td>\n      <td>-0.166827</td>\n      <td>NHS Kernow CCG</td>\n      <td>South Western</td>\n      <td>9:50</td>\n    </tr>\n    <tr>\n      <th>1</th>\n      <td>134</td>\n      <td>93</td>\n      <td>E38000244</td>\n      <td>NHS South East London CCG</td>\n      <td>541305</td>\n      <td>168583</td>\n      <td>0.029892</td>\n      <td>51.39868</td>\n      <td>3.488605e+08</td>\n      <td>1.248200e+05</td>\n      <td>MULTIPOLYGON (((552838.400 175550.000, 552843....</td>\n      <td>15.106058</td>\n      <td>-0.397073</td>\n      <td>NHS South East London CCG</td>\n      <td>London</td>\n      <td>55:44</td>\n    </tr>\n    <tr>\n      <th>2</th>\n      <td>135</td>\n      <td>95</td>\n      <td>E38000246</td>\n      <td>NHS Surrey Heartlands CCG</td>\n      <td>516837</td>\n      <td>150388</td>\n      <td>-0.327610</td>\n      <td>51.24071</td>\n      <td>1.595693e+09</td>\n      <td>3.010981e+05</td>\n      <td>MULTIPOLYGON (((503578.594 175452.610, 503574....</td>\n      <td>7.595187</td>\n      <td>-0.449243</td>\n      <td>NHS Surrey Heartlands CCG</td>\n      <td>South East Coast</td>\n      <td>35:31</td>\n    </tr>\n    <tr>\n      <th>3</th>\n      <td>136</td>\n      <td>40</td>\n      <td>E38000137</td>\n      <td>NHS Portsmouth CCG</td>\n      <td>465619</td>\n      <td>101352</td>\n      <td>-1.070060</td>\n      <td>50.80800</td>\n      <td>4.038664e+07</td>\n      <td>6.181838e+04</td>\n      <td>MULTIPOLYGON (((465548.313 94917.149, 465547.5...</td>\n      <td>7.440331</td>\n      <td>-0.593025</td>\n      <td>NHS Portsmouth CCG</td>\n      <td>South Central</td>\n      <td>43:28</td>\n    </tr>\n    <tr>\n      <th>4</th>\n      <td>137</td>\n      <td>2</td>\n      <td>E38000007</td>\n      <td>NHS Basildon and Brentwood CCG</td>\n      <td>564014</td>\n      <td>194421</td>\n      <td>0.368068</td>\n      <td>51.62470</td>\n      <td>2.631183e+08</td>\n      <td>1.337737e+05</td>\n      <td>MULTIPOLYGON (((576397.460 184824.420, 576403....</td>\n      <td>12.735452</td>\n      <td>-0.342181</td>\n      <td>NHS Basildon and Brentwood CCG</td>\n      <td>East Midlands</td>\n      <td>11:51</td>\n    </tr>\n    <tr>\n      <th>5</th>\n      <td>138</td>\n      <td>67</td>\n      <td>E38000212</td>\n      <td>NHS Newcastle Gateshead CCG</td>\n      <td>420165</td>\n      <td>559658</td>\n      <td>-1.686850</td>\n      <td>54.93120</td>\n      <td>2.557887e+08</td>\n      <td>1.547149e+05</td>\n      <td>MULTIPOLYGON (((415220.399 565094.003, 415242....</td>\n      <td>14.724405</td>\n      <td>0.680426</td>\n      <td>NHS Newcastle Gateshead CCG</td>\n      <td>North East</td>\n      <td>44:00</td>\n    </tr>\n    <tr>\n      <th>6</th>\n      <td>139</td>\n      <td>4</td>\n      <td>E38000014</td>\n      <td>NHS Blackburn with Darwen CCG</td>\n      <td>369490</td>\n      <td>422806</td>\n      <td>-2.463600</td>\n      <td>53.70080</td>\n      <td>1.370126e+08</td>\n      <td>6.524908e+04</td>\n      <td>MULTIPOLYGON (((347049.380 414681.250, 347043....</td>\n      <td>14.498308</td>\n      <td>0.621805</td>\n      <td>NHS Blackburn with Darwen CCG</td>\n      <td>North West</td>\n      <td>39:46</td>\n    </tr>\n    <tr>\n      <th>7</th>\n      <td>140</td>\n      <td>11</td>\n      <td>E38000028</td>\n      <td>NHS Cannock Chase CCG</td>\n      <td>401391</td>\n      <td>311481</td>\n      <td>-1.980840</td>\n      <td>52.70101</td>\n      <td>1.337217e+08</td>\n      <td>8.324228e+04</td>\n      <td>POLYGON ((374544.500 344634.312, 374554.068 34...</td>\n      <td>17.396253</td>\n      <td>0.196028</td>\n      <td>NHS Cannock Chase CCG</td>\n      <td>West Midlands</td>\n      <td>52:11</td>\n    </tr>\n    <tr>\n      <th>8</th>\n      <td>141</td>\n      <td>92</td>\n      <td>E38000243</td>\n      <td>NHS Nottingham and Nottinghamshire CCG</td>\n      <td>466571</td>\n      <td>348422</td>\n      <td>-1.008830</td>\n      <td>53.02897</td>\n      <td>1.521517e+09</td>\n      <td>2.497150e+05</td>\n      <td>MULTIPOLYGON (((447154.876 288685.246, 447137....</td>\n      <td>13.808985</td>\n      <td>0.064179</td>\n      <td>NHS Nottingham and Nottinghamshire CCG</td>\n      <td>East of England</td>\n      <td>56:48</td>\n    </tr>\n    <tr>\n      <th>9</th>\n      <td>142</td>\n      <td>1</td>\n      <td>E38000006</td>\n      <td>NHS Barnsley CCG</td>\n      <td>429979</td>\n      <td>403330</td>\n      <td>-1.549250</td>\n      <td>53.52580</td>\n      <td>3.290521e+08</td>\n      <td>1.255186e+05</td>\n      <td>MULTIPOLYGON (((413265.887 398534.505, 413261....</td>\n      <td>16.696206</td>\n      <td>0.314100</td>\n      <td>NHS Barnsley CCG</td>\n      <td>Yorkshire</td>\n      <td>43:18</td>\n    </tr>\n  </tbody>\n</table>\n</div>"
     },
     "execution_count": 20,
     "metadata": {},
     "output_type": "execute_result"
    }
   ],
   "source": [
    "combined_gdf = trust_with_all_metrics.merge(corrected_per, how=\"left\", on=\"ccg21cd\")\n",
    "combined_gdf"
   ]
  },
  {
   "cell_type": "code",
   "execution_count": 21,
   "metadata": {
    "pycharm": {
     "name": "#%%\n"
    }
   },
   "outputs": [
    {
     "data": {
      "text/plain": "    id  objectid    ccg21cd                               ccg21nm_x   bng_e  \\\n0  133        27  E38000089                          NHS Kernow CCG  212497   \n1  134        93  E38000244               NHS South East London CCG  541305   \n2  135        95  E38000246               NHS Surrey Heartlands CCG  516837   \n3  136        40  E38000137                      NHS Portsmouth CCG  465619   \n4  137         2  E38000007          NHS Basildon and Brentwood CCG  564014   \n5  138        67  E38000212             NHS Newcastle Gateshead CCG  420165   \n6  139         4  E38000014           NHS Blackburn with Darwen CCG  369490   \n7  140        11  E38000028                   NHS Cannock Chase CCG  401391   \n8  141        92  E38000243  NHS Nottingham and Nottinghamshire CCG  466571   \n9  142         1  E38000006                        NHS Barnsley CCG  429979   \n\n    bng_n      long       lat    shape__are    shape__len  \\\n0   64493 -4.642540  50.45022  3.565119e+09  1.356815e+06   \n1  168583  0.029892  51.39868  3.488605e+08  1.248200e+05   \n2  150388 -0.327610  51.24071  1.595693e+09  3.010981e+05   \n3  101352 -1.070060  50.80800  4.038664e+07  6.181838e+04   \n4  194421  0.368068  51.62470  2.631183e+08  1.337737e+05   \n5  559658 -1.686850  54.93120  2.557887e+08  1.547149e+05   \n6  422806 -2.463600  53.70080  1.370126e+08  6.524908e+04   \n7  311481 -1.980840  52.70101  1.337217e+08  8.324228e+04   \n8  348422 -1.008830  53.02897  1.521517e+09  2.497150e+05   \n9  403330 -1.549250  53.52580  3.290521e+08  1.255186e+05   \n\n                                            geometry  poverty_prop  hddscore  \\\n0  MULTIPOLYGON (((83998.680 5390.750, 83996.750 ...     10.552136 -0.166827   \n1  MULTIPOLYGON (((552838.400 175550.000, 552843....     15.106058 -0.397073   \n2  MULTIPOLYGON (((503578.594 175452.610, 503574....      7.595187 -0.449243   \n3  MULTIPOLYGON (((465548.313 94917.149, 465547.5...      7.440331 -0.593025   \n4  MULTIPOLYGON (((576397.460 184824.420, 576403....     12.735452 -0.342181   \n5  MULTIPOLYGON (((415220.399 565094.003, 415242....     14.724405  0.680426   \n6  MULTIPOLYGON (((347049.380 414681.250, 347043....     14.498308  0.621805   \n7  POLYGON ((374544.500 344634.312, 374554.068 34...     17.396253  0.196028   \n8  MULTIPOLYGON (((447154.876 288685.246, 447137....     13.808985  0.064179   \n9  MULTIPOLYGON (((413265.887 398534.505, 413261....     16.696206  0.314100   \n\n                                ccg21nm_y      CorrectTrust   Time Min Sec  \\\n0                          NHS Kernow CCG     South Western   9:50   9  50   \n1               NHS South East London CCG            London  55:44  55  44   \n2               NHS Surrey Heartlands CCG  South East Coast  35:31  35  31   \n3                      NHS Portsmouth CCG     South Central  43:28  43  28   \n4          NHS Basildon and Brentwood CCG     East Midlands  11:51  11  51   \n5             NHS Newcastle Gateshead CCG        North East  44:00  44  00   \n6           NHS Blackburn with Darwen CCG        North West  39:46  39  46   \n7                   NHS Cannock Chase CCG     West Midlands  52:11  52  11   \n8  NHS Nottingham and Nottinghamshire CCG   East of England  56:48  56  48   \n9                        NHS Barnsley CCG         Yorkshire  43:18  43  18   \n\n   Cat2Mins  \n0         9  \n1        55  \n2        35  \n3        43  \n4        11  \n5        44  \n6        39  \n7        52  \n8        56  \n9        43  ",
      "text/html": "<div>\n<style scoped>\n    .dataframe tbody tr th:only-of-type {\n        vertical-align: middle;\n    }\n\n    .dataframe tbody tr th {\n        vertical-align: top;\n    }\n\n    .dataframe thead th {\n        text-align: right;\n    }\n</style>\n<table border=\"1\" class=\"dataframe\">\n  <thead>\n    <tr style=\"text-align: right;\">\n      <th></th>\n      <th>id</th>\n      <th>objectid</th>\n      <th>ccg21cd</th>\n      <th>ccg21nm_x</th>\n      <th>bng_e</th>\n      <th>bng_n</th>\n      <th>long</th>\n      <th>lat</th>\n      <th>shape__are</th>\n      <th>shape__len</th>\n      <th>geometry</th>\n      <th>poverty_prop</th>\n      <th>hddscore</th>\n      <th>ccg21nm_y</th>\n      <th>CorrectTrust</th>\n      <th>Time</th>\n      <th>Min</th>\n      <th>Sec</th>\n      <th>Cat2Mins</th>\n    </tr>\n  </thead>\n  <tbody>\n    <tr>\n      <th>0</th>\n      <td>133</td>\n      <td>27</td>\n      <td>E38000089</td>\n      <td>NHS Kernow CCG</td>\n      <td>212497</td>\n      <td>64493</td>\n      <td>-4.642540</td>\n      <td>50.45022</td>\n      <td>3.565119e+09</td>\n      <td>1.356815e+06</td>\n      <td>MULTIPOLYGON (((83998.680 5390.750, 83996.750 ...</td>\n      <td>10.552136</td>\n      <td>-0.166827</td>\n      <td>NHS Kernow CCG</td>\n      <td>South Western</td>\n      <td>9:50</td>\n      <td>9</td>\n      <td>50</td>\n      <td>9</td>\n    </tr>\n    <tr>\n      <th>1</th>\n      <td>134</td>\n      <td>93</td>\n      <td>E38000244</td>\n      <td>NHS South East London CCG</td>\n      <td>541305</td>\n      <td>168583</td>\n      <td>0.029892</td>\n      <td>51.39868</td>\n      <td>3.488605e+08</td>\n      <td>1.248200e+05</td>\n      <td>MULTIPOLYGON (((552838.400 175550.000, 552843....</td>\n      <td>15.106058</td>\n      <td>-0.397073</td>\n      <td>NHS South East London CCG</td>\n      <td>London</td>\n      <td>55:44</td>\n      <td>55</td>\n      <td>44</td>\n      <td>55</td>\n    </tr>\n    <tr>\n      <th>2</th>\n      <td>135</td>\n      <td>95</td>\n      <td>E38000246</td>\n      <td>NHS Surrey Heartlands CCG</td>\n      <td>516837</td>\n      <td>150388</td>\n      <td>-0.327610</td>\n      <td>51.24071</td>\n      <td>1.595693e+09</td>\n      <td>3.010981e+05</td>\n      <td>MULTIPOLYGON (((503578.594 175452.610, 503574....</td>\n      <td>7.595187</td>\n      <td>-0.449243</td>\n      <td>NHS Surrey Heartlands CCG</td>\n      <td>South East Coast</td>\n      <td>35:31</td>\n      <td>35</td>\n      <td>31</td>\n      <td>35</td>\n    </tr>\n    <tr>\n      <th>3</th>\n      <td>136</td>\n      <td>40</td>\n      <td>E38000137</td>\n      <td>NHS Portsmouth CCG</td>\n      <td>465619</td>\n      <td>101352</td>\n      <td>-1.070060</td>\n      <td>50.80800</td>\n      <td>4.038664e+07</td>\n      <td>6.181838e+04</td>\n      <td>MULTIPOLYGON (((465548.313 94917.149, 465547.5...</td>\n      <td>7.440331</td>\n      <td>-0.593025</td>\n      <td>NHS Portsmouth CCG</td>\n      <td>South Central</td>\n      <td>43:28</td>\n      <td>43</td>\n      <td>28</td>\n      <td>43</td>\n    </tr>\n    <tr>\n      <th>4</th>\n      <td>137</td>\n      <td>2</td>\n      <td>E38000007</td>\n      <td>NHS Basildon and Brentwood CCG</td>\n      <td>564014</td>\n      <td>194421</td>\n      <td>0.368068</td>\n      <td>51.62470</td>\n      <td>2.631183e+08</td>\n      <td>1.337737e+05</td>\n      <td>MULTIPOLYGON (((576397.460 184824.420, 576403....</td>\n      <td>12.735452</td>\n      <td>-0.342181</td>\n      <td>NHS Basildon and Brentwood CCG</td>\n      <td>East Midlands</td>\n      <td>11:51</td>\n      <td>11</td>\n      <td>51</td>\n      <td>11</td>\n    </tr>\n    <tr>\n      <th>5</th>\n      <td>138</td>\n      <td>67</td>\n      <td>E38000212</td>\n      <td>NHS Newcastle Gateshead CCG</td>\n      <td>420165</td>\n      <td>559658</td>\n      <td>-1.686850</td>\n      <td>54.93120</td>\n      <td>2.557887e+08</td>\n      <td>1.547149e+05</td>\n      <td>MULTIPOLYGON (((415220.399 565094.003, 415242....</td>\n      <td>14.724405</td>\n      <td>0.680426</td>\n      <td>NHS Newcastle Gateshead CCG</td>\n      <td>North East</td>\n      <td>44:00</td>\n      <td>44</td>\n      <td>00</td>\n      <td>44</td>\n    </tr>\n    <tr>\n      <th>6</th>\n      <td>139</td>\n      <td>4</td>\n      <td>E38000014</td>\n      <td>NHS Blackburn with Darwen CCG</td>\n      <td>369490</td>\n      <td>422806</td>\n      <td>-2.463600</td>\n      <td>53.70080</td>\n      <td>1.370126e+08</td>\n      <td>6.524908e+04</td>\n      <td>MULTIPOLYGON (((347049.380 414681.250, 347043....</td>\n      <td>14.498308</td>\n      <td>0.621805</td>\n      <td>NHS Blackburn with Darwen CCG</td>\n      <td>North West</td>\n      <td>39:46</td>\n      <td>39</td>\n      <td>46</td>\n      <td>39</td>\n    </tr>\n    <tr>\n      <th>7</th>\n      <td>140</td>\n      <td>11</td>\n      <td>E38000028</td>\n      <td>NHS Cannock Chase CCG</td>\n      <td>401391</td>\n      <td>311481</td>\n      <td>-1.980840</td>\n      <td>52.70101</td>\n      <td>1.337217e+08</td>\n      <td>8.324228e+04</td>\n      <td>POLYGON ((374544.500 344634.312, 374554.068 34...</td>\n      <td>17.396253</td>\n      <td>0.196028</td>\n      <td>NHS Cannock Chase CCG</td>\n      <td>West Midlands</td>\n      <td>52:11</td>\n      <td>52</td>\n      <td>11</td>\n      <td>52</td>\n    </tr>\n    <tr>\n      <th>8</th>\n      <td>141</td>\n      <td>92</td>\n      <td>E38000243</td>\n      <td>NHS Nottingham and Nottinghamshire CCG</td>\n      <td>466571</td>\n      <td>348422</td>\n      <td>-1.008830</td>\n      <td>53.02897</td>\n      <td>1.521517e+09</td>\n      <td>2.497150e+05</td>\n      <td>MULTIPOLYGON (((447154.876 288685.246, 447137....</td>\n      <td>13.808985</td>\n      <td>0.064179</td>\n      <td>NHS Nottingham and Nottinghamshire CCG</td>\n      <td>East of England</td>\n      <td>56:48</td>\n      <td>56</td>\n      <td>48</td>\n      <td>56</td>\n    </tr>\n    <tr>\n      <th>9</th>\n      <td>142</td>\n      <td>1</td>\n      <td>E38000006</td>\n      <td>NHS Barnsley CCG</td>\n      <td>429979</td>\n      <td>403330</td>\n      <td>-1.549250</td>\n      <td>53.52580</td>\n      <td>3.290521e+08</td>\n      <td>1.255186e+05</td>\n      <td>MULTIPOLYGON (((413265.887 398534.505, 413261....</td>\n      <td>16.696206</td>\n      <td>0.314100</td>\n      <td>NHS Barnsley CCG</td>\n      <td>Yorkshire</td>\n      <td>43:18</td>\n      <td>43</td>\n      <td>18</td>\n      <td>43</td>\n    </tr>\n  </tbody>\n</table>\n</div>"
     },
     "execution_count": 21,
     "metadata": {},
     "output_type": "execute_result"
    }
   ],
   "source": [
    "combined_gdf[['Min', 'Sec']] = combined_gdf['Time'].str.split(':', 1, expand=True)\n",
    "combined_gdf[\"Cat2Mins\"] = combined_gdf[\"Min\"].astype(\"int\")\n",
    "combined_gdf"
   ]
  },
  {
   "cell_type": "markdown",
   "source": [
    "We then add in the location of ambulance bases.\n",
    "\n",
    "These were extracted using the OpenStreetMap Overpass API, using the query string\n",
    "emergency=ambulance_station\n"
   ],
   "metadata": {
    "collapsed": false,
    "pycharm": {
     "name": "#%% md\n"
    }
   }
  },
  {
   "cell_type": "code",
   "execution_count": 22,
   "metadata": {
    "pycharm": {
     "name": "#%%\n"
    }
   },
   "outputs": [
    {
     "data": {
      "text/plain": "                   id              @id CLA_PERS CLA_PRES COD_HAB EMP_EST  \\\n0       node/31064825    node/31064825     None     None    None    None   \n1       node/33098255    node/33098255     None     None    None    None   \n2       node/60016641    node/60016641     None     None    None    None   \n3       node/67972720    node/67972720     None     None    None    None   \n4       node/82599989    node/82599989     None     None    None    None   \n...               ...              ...      ...      ...     ...     ...   \n4969  node/9910441083  node/9910441083     None     None    None    None   \n4970  node/9911136485  node/9911136485     None     None    None    None   \n4971  node/9911196141  node/9911196141     None     None    None    None   \n4972  node/9912112027  node/9912112027     None     None    None    None   \n4973  node/9914958880  node/9914958880     None     None    None    None   \n\n     ESTADO FIXME LOCALIDAD NIVSOCIO  ... website website_1 wheelchair  \\\n0      None  None      None     None  ...    None      None       None   \n1      None  None      None     None  ...    None      None       None   \n2      None  None      None     None  ...    None      None       None   \n3      None  None      None     None  ...    None      None       None   \n4      None  None      None     None  ...    None      None       None   \n...     ...   ...       ...      ...  ...     ...       ...        ...   \n4969   None  None      None     None  ...    None      None       None   \n4970   None  None      None     None  ...    None      None       None   \n4971   None  None      None     None  ...    None      None       None   \n4972   None  None      None     None  ...    None      None       None   \n4973   None  None      None     None  ...    None      None       None   \n\n     wheelchair:description wheelchair:rental wikidata wikimedia_commons  \\\n0                      None              None     None              None   \n1                      None              None     None              None   \n2                      None              None     None              None   \n3                      None              None     None              None   \n4                      None              None     None              None   \n...                     ...               ...      ...               ...   \n4969                   None              None     None              None   \n4970                   None              None     None              None   \n4971                   None              None     None              None   \n4972                   None              None     None              None   \n4973                   None              None     None              None   \n\n     wikipedia zcen2011                           geometry  \n0         None     None  POINT (2856221.144 -21588537.373)  \n1         None     None    POINT (1458738.095 -107141.368)  \n2         None     None     POINT (1057560.480 669198.060)  \n3         None     None   POINT (-5211521.847 3040770.444)  \n4         None     None      POINT (1423092.416 31563.693)  \n...        ...      ...                                ...  \n4969      None     None    POINT (1309609.777 -530707.386)  \n4970      None     None     POINT (7267816.678 -21434.370)  \n4971      None     None  POINT (4034703.086 -23049698.320)  \n4972      None     None    POINT (1148526.558 -645490.943)  \n4973      None     None     POINT (533824.492 -728901.992)  \n\n[4974 rows x 292 columns]",
      "text/html": "<div>\n<style scoped>\n    .dataframe tbody tr th:only-of-type {\n        vertical-align: middle;\n    }\n\n    .dataframe tbody tr th {\n        vertical-align: top;\n    }\n\n    .dataframe thead th {\n        text-align: right;\n    }\n</style>\n<table border=\"1\" class=\"dataframe\">\n  <thead>\n    <tr style=\"text-align: right;\">\n      <th></th>\n      <th>id</th>\n      <th>@id</th>\n      <th>CLA_PERS</th>\n      <th>CLA_PRES</th>\n      <th>COD_HAB</th>\n      <th>EMP_EST</th>\n      <th>ESTADO</th>\n      <th>FIXME</th>\n      <th>LOCALIDAD</th>\n      <th>NIVSOCIO</th>\n      <th>...</th>\n      <th>website</th>\n      <th>website_1</th>\n      <th>wheelchair</th>\n      <th>wheelchair:description</th>\n      <th>wheelchair:rental</th>\n      <th>wikidata</th>\n      <th>wikimedia_commons</th>\n      <th>wikipedia</th>\n      <th>zcen2011</th>\n      <th>geometry</th>\n    </tr>\n  </thead>\n  <tbody>\n    <tr>\n      <th>0</th>\n      <td>node/31064825</td>\n      <td>node/31064825</td>\n      <td>None</td>\n      <td>None</td>\n      <td>None</td>\n      <td>None</td>\n      <td>None</td>\n      <td>None</td>\n      <td>None</td>\n      <td>None</td>\n      <td>...</td>\n      <td>None</td>\n      <td>None</td>\n      <td>None</td>\n      <td>None</td>\n      <td>None</td>\n      <td>None</td>\n      <td>None</td>\n      <td>None</td>\n      <td>None</td>\n      <td>POINT (2856221.144 -21588537.373)</td>\n    </tr>\n    <tr>\n      <th>1</th>\n      <td>node/33098255</td>\n      <td>node/33098255</td>\n      <td>None</td>\n      <td>None</td>\n      <td>None</td>\n      <td>None</td>\n      <td>None</td>\n      <td>None</td>\n      <td>None</td>\n      <td>None</td>\n      <td>...</td>\n      <td>None</td>\n      <td>None</td>\n      <td>None</td>\n      <td>None</td>\n      <td>None</td>\n      <td>None</td>\n      <td>None</td>\n      <td>None</td>\n      <td>None</td>\n      <td>POINT (1458738.095 -107141.368)</td>\n    </tr>\n    <tr>\n      <th>2</th>\n      <td>node/60016641</td>\n      <td>node/60016641</td>\n      <td>None</td>\n      <td>None</td>\n      <td>None</td>\n      <td>None</td>\n      <td>None</td>\n      <td>None</td>\n      <td>None</td>\n      <td>None</td>\n      <td>...</td>\n      <td>None</td>\n      <td>None</td>\n      <td>None</td>\n      <td>None</td>\n      <td>None</td>\n      <td>None</td>\n      <td>None</td>\n      <td>None</td>\n      <td>None</td>\n      <td>POINT (1057560.480 669198.060)</td>\n    </tr>\n    <tr>\n      <th>3</th>\n      <td>node/67972720</td>\n      <td>node/67972720</td>\n      <td>None</td>\n      <td>None</td>\n      <td>None</td>\n      <td>None</td>\n      <td>None</td>\n      <td>None</td>\n      <td>None</td>\n      <td>None</td>\n      <td>...</td>\n      <td>None</td>\n      <td>None</td>\n      <td>None</td>\n      <td>None</td>\n      <td>None</td>\n      <td>None</td>\n      <td>None</td>\n      <td>None</td>\n      <td>None</td>\n      <td>POINT (-5211521.847 3040770.444)</td>\n    </tr>\n    <tr>\n      <th>4</th>\n      <td>node/82599989</td>\n      <td>node/82599989</td>\n      <td>None</td>\n      <td>None</td>\n      <td>None</td>\n      <td>None</td>\n      <td>None</td>\n      <td>None</td>\n      <td>None</td>\n      <td>None</td>\n      <td>...</td>\n      <td>None</td>\n      <td>None</td>\n      <td>None</td>\n      <td>None</td>\n      <td>None</td>\n      <td>None</td>\n      <td>None</td>\n      <td>None</td>\n      <td>None</td>\n      <td>POINT (1423092.416 31563.693)</td>\n    </tr>\n    <tr>\n      <th>...</th>\n      <td>...</td>\n      <td>...</td>\n      <td>...</td>\n      <td>...</td>\n      <td>...</td>\n      <td>...</td>\n      <td>...</td>\n      <td>...</td>\n      <td>...</td>\n      <td>...</td>\n      <td>...</td>\n      <td>...</td>\n      <td>...</td>\n      <td>...</td>\n      <td>...</td>\n      <td>...</td>\n      <td>...</td>\n      <td>...</td>\n      <td>...</td>\n      <td>...</td>\n      <td>...</td>\n    </tr>\n    <tr>\n      <th>4969</th>\n      <td>node/9910441083</td>\n      <td>node/9910441083</td>\n      <td>None</td>\n      <td>None</td>\n      <td>None</td>\n      <td>None</td>\n      <td>None</td>\n      <td>None</td>\n      <td>None</td>\n      <td>None</td>\n      <td>...</td>\n      <td>None</td>\n      <td>None</td>\n      <td>None</td>\n      <td>None</td>\n      <td>None</td>\n      <td>None</td>\n      <td>None</td>\n      <td>None</td>\n      <td>None</td>\n      <td>POINT (1309609.777 -530707.386)</td>\n    </tr>\n    <tr>\n      <th>4970</th>\n      <td>node/9911136485</td>\n      <td>node/9911136485</td>\n      <td>None</td>\n      <td>None</td>\n      <td>None</td>\n      <td>None</td>\n      <td>None</td>\n      <td>None</td>\n      <td>None</td>\n      <td>None</td>\n      <td>...</td>\n      <td>None</td>\n      <td>None</td>\n      <td>None</td>\n      <td>None</td>\n      <td>None</td>\n      <td>None</td>\n      <td>None</td>\n      <td>None</td>\n      <td>None</td>\n      <td>POINT (7267816.678 -21434.370)</td>\n    </tr>\n    <tr>\n      <th>4971</th>\n      <td>node/9911196141</td>\n      <td>node/9911196141</td>\n      <td>None</td>\n      <td>None</td>\n      <td>None</td>\n      <td>None</td>\n      <td>None</td>\n      <td>None</td>\n      <td>None</td>\n      <td>None</td>\n      <td>...</td>\n      <td>None</td>\n      <td>None</td>\n      <td>None</td>\n      <td>None</td>\n      <td>None</td>\n      <td>None</td>\n      <td>None</td>\n      <td>None</td>\n      <td>None</td>\n      <td>POINT (4034703.086 -23049698.320)</td>\n    </tr>\n    <tr>\n      <th>4972</th>\n      <td>node/9912112027</td>\n      <td>node/9912112027</td>\n      <td>None</td>\n      <td>None</td>\n      <td>None</td>\n      <td>None</td>\n      <td>None</td>\n      <td>None</td>\n      <td>None</td>\n      <td>None</td>\n      <td>...</td>\n      <td>None</td>\n      <td>None</td>\n      <td>None</td>\n      <td>None</td>\n      <td>None</td>\n      <td>None</td>\n      <td>None</td>\n      <td>None</td>\n      <td>None</td>\n      <td>POINT (1148526.558 -645490.943)</td>\n    </tr>\n    <tr>\n      <th>4973</th>\n      <td>node/9914958880</td>\n      <td>node/9914958880</td>\n      <td>None</td>\n      <td>None</td>\n      <td>None</td>\n      <td>None</td>\n      <td>None</td>\n      <td>None</td>\n      <td>None</td>\n      <td>None</td>\n      <td>...</td>\n      <td>None</td>\n      <td>None</td>\n      <td>None</td>\n      <td>None</td>\n      <td>None</td>\n      <td>None</td>\n      <td>None</td>\n      <td>None</td>\n      <td>None</td>\n      <td>POINT (533824.492 -728901.992)</td>\n    </tr>\n  </tbody>\n</table>\n<p>4974 rows × 292 columns</p>\n</div>"
     },
     "execution_count": 22,
     "metadata": {},
     "output_type": "execute_result"
    }
   ],
   "source": [
    "ambulance_bases = geopandas.read_file(\"../data/external/export.geojson\").to_crs(\"EPSG:27700\")\n",
    "ambulance_bases"
   ]
  },
  {
   "cell_type": "markdown",
   "source": [
    "Finally, we bring this together into our final map, display it and save as an output.\n",
    "\n",
    "It's absolutely huge and unoptimised, so we don't actually visualise it here."
   ],
   "metadata": {
    "collapsed": false,
    "pycharm": {
     "name": "#%% md\n"
    }
   }
  },
  {
   "cell_type": "code",
   "execution_count": 23,
   "metadata": {
    "pycharm": {
     "name": "#%%\n"
    }
   },
   "outputs": [],
   "source": [
    "\n",
    "geoframe = combined_gdf\n",
    "key = \"CorrectTrust\"\n",
    "category = \"poverty_prop\"\n",
    "\n",
    "values_to_show = [\"hddscore\"]\n",
    "\n",
    "# Create interactive map with default basemap\n",
    "map_osm = folium.Map(location=[51.5074, 0.1278], tiles='CartoDB positron')\n",
    "\n",
    "heat = folium.Choropleth(\n",
    "    geo_data=geoframe[[key, \"geometry\", category]].sort_values(by=category, ascending=False),\n",
    "    name='Fuel Poverty',\n",
    "    data=geoframe,\n",
    "    columns=[key, category],\n",
    "    fill_color=\"BuPu\",\n",
    "    show=False,\n",
    "    key_on=\"feature.properties.\" + str(key)\n",
    ")\n",
    "map_osm.add_child(heat)\n",
    "\n",
    "health_depriv = folium.Choropleth(\n",
    "    geo_data=geoframe[[key, \"geometry\", \"hddscore\"]].sort_values(by=\"hddscore\", ascending=False),\n",
    "    name='Health Poverty',\n",
    "    data=geoframe,\n",
    "    columns=[key, \"hddscore\"],\n",
    "    fill_color=\"BuPu\",\n",
    "    show=False,\n",
    "    key_on=\"feature.properties.\" + str(key)\n",
    ")\n",
    "map_osm.add_child(health_depriv)\n",
    "\n",
    "ambo_times = folium.Choropleth(\n",
    "    geo_data=geoframe[[key, \"geometry\", \"Cat2Mins\"]].sort_values(by=\"Cat2Mins\", ascending=False),\n",
    "    name='Response Time',\n",
    "    data=geoframe,\n",
    "    columns=[key, \"Cat2Mins\"],\n",
    "    fill_color=\"BuPu\",\n",
    "    key_on=\"feature.properties.\" + str(key)\n",
    ")\n",
    "map_osm.add_child(ambo_times)\n",
    "\n",
    "ambo_bases = folium.GeoJson(ambulance_bases, name=\"Ambulance Bases\", show=True)\n",
    "map_osm.add_child(ambo_bases)\n",
    "\n",
    "style_function = lambda x: {'fillColor': '#ffffff',\n",
    "                            'color': '#000000',\n",
    "                            'fillOpacity': 0.1,\n",
    "                            'weight': 0.1}\n",
    "highlight_function = lambda x: {'fillColor': '#000000',\n",
    "                                'color': '#000000',\n",
    "                                'fillOpacity': 0.50,\n",
    "                                'weight': 0.1}\n",
    "nil = folium.features.GeoJson(\n",
    "    geoframe[[key, \"geometry\", category] + values_to_show].sort_values(by=category, ascending=False),\n",
    "    style_function=style_function,\n",
    "    control=False,\n",
    "    highlight_function=highlight_function,\n",
    "    tooltip=folium.features.GeoJsonTooltip(\n",
    "        fields=[key, category] + values_to_show,\n",
    "        aliases=['Ref', 'Score'] + values_to_show,\n",
    "        style=\"background-color: white; color: #333333; font-family: arial; font-size: 12px; padding: 10px;\"\n",
    "    )\n",
    ")\n",
    "map_osm.add_child(nil)\n",
    "map_osm.keep_in_front(nil)\n",
    "folium.LayerControl().add_to(map_osm)\n",
    "\n",
    "for key in map_osm._children:\n",
    "    if key.startswith('color_map'):\n",
    "        del(map_osm[key])\n",
    "\n",
    "#map_osm\n",
    "\n",
    "\n",
    "\n"
   ]
  },
  {
   "cell_type": "code",
   "execution_count": 24,
   "metadata": {
    "pycharm": {
     "name": "#%%\n"
    }
   },
   "outputs": [],
   "source": [
    "map_osm.save(\"../outputs/ambo_map.html\")"
   ]
  }
 ],
 "metadata": {
  "kernelspec": {
   "display_name": "Python 3 (ipykernel)",
   "language": "python",
   "name": "python3"
  },
  "language_info": {
   "codemirror_mode": {
    "name": "ipython",
    "version": 3
   },
   "file_extension": ".py",
   "mimetype": "text/x-python",
   "name": "python",
   "nbconvert_exporter": "python",
   "pygments_lexer": "ipython3",
   "version": "3.8.10"
  }
 },
 "nbformat": 4,
 "nbformat_minor": 1
}